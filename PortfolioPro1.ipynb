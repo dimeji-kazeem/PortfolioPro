{
 "cells": [
  {
   "cell_type": "markdown",
   "id": "9fd729da",
   "metadata": {},
   "source": [
    "### Step 1: Setup and Data Collection"
   ]
  },
  {
   "cell_type": "code",
   "execution_count": 1,
   "id": "70022cc8",
   "metadata": {},
   "outputs": [],
   "source": [
    "# Install required packages\n",
    "# pip install streamlit yfinance pandas matplotlib"
   ]
  },
  {
   "cell_type": "code",
   "execution_count": 135,
   "id": "b80e5474",
   "metadata": {},
   "outputs": [],
   "source": [
    "import numpy as np\n",
    "import pandas as pd\n",
    "import matplotlib.pyplot as plt\n",
    "%matplotlib inline\n",
    "import seaborn as sns\n",
    "import statsmodels.api as sm\n",
    "import pandas_datareader\n",
    "import datetime\n",
    "import pandas_datareader.data as web\n",
    "from sklearn.model_selection import train_test_split\n",
    "from sklearn.linear_model import LinearRegression\n",
    "from sklearn.ensemble import RandomForestRegressor, GradientBoostingRegressor\n",
    "from sklearn.svm import SVR\n",
    "from sklearn.neural_network import MLPRegressor\n",
    "from sklearn.metrics import mean_squared_error, mean_absolute_error, r2_score"
   ]
  },
  {
   "cell_type": "markdown",
   "id": "7ef19041",
   "metadata": {},
   "source": [
    "### 2. Data Collection & Preparation"
   ]
  },
  {
   "cell_type": "markdown",
   "id": "bab5f1e6",
   "metadata": {},
   "source": [
    "Use the Yahoo Finance API or any other reliable financial data source to gather historical daily stock price data for the selected stocks: Microsoft, Amazon, Google, Tesla, Dell, and Apple.\n",
    "Retrieve the stock price data for a specific time range that aligns with the desired analysis period."
   ]
  },
  {
   "cell_type": "code",
   "execution_count": 119,
   "id": "5cabb865",
   "metadata": {},
   "outputs": [],
   "source": [
    "# Generate Mock Market Data\n",
    "def generate_mock_market_data(start_date, end_date):\n",
    "    date_range = pd.date_range(start=start_date, end=end_date, freq='D')\n",
    "    returns = np.random.normal(0.0005, 0.01, len(date_range))  # Random daily returns with mean 0.0005 and standard deviation 0.01\n",
    "    market_data = pd.DataFrame({'Adj Close': (1 + returns).cumprod()}, index=date_range)\n",
    "    return market_data"
   ]
  },
  {
   "cell_type": "code",
   "execution_count": 126,
   "id": "20679707",
   "metadata": {},
   "outputs": [],
   "source": [
    "market_data = generate_mock_market_data(start_date, end_date)"
   ]
  },
  {
   "cell_type": "code",
   "execution_count": 128,
   "id": "8d24ec2f",
   "metadata": {},
   "outputs": [
    {
     "data": {
      "text/html": [
       "<div>\n",
       "<style scoped>\n",
       "    .dataframe tbody tr th:only-of-type {\n",
       "        vertical-align: middle;\n",
       "    }\n",
       "\n",
       "    .dataframe tbody tr th {\n",
       "        vertical-align: top;\n",
       "    }\n",
       "\n",
       "    .dataframe thead th {\n",
       "        text-align: right;\n",
       "    }\n",
       "</style>\n",
       "<table border=\"1\" class=\"dataframe\">\n",
       "  <thead>\n",
       "    <tr style=\"text-align: right;\">\n",
       "      <th></th>\n",
       "      <th>Adj Close</th>\n",
       "    </tr>\n",
       "  </thead>\n",
       "  <tbody>\n",
       "    <tr>\n",
       "      <th>2020-01-01</th>\n",
       "      <td>1.007226</td>\n",
       "    </tr>\n",
       "    <tr>\n",
       "      <th>2020-01-02</th>\n",
       "      <td>1.026865</td>\n",
       "    </tr>\n",
       "    <tr>\n",
       "      <th>2020-01-03</th>\n",
       "      <td>1.026017</td>\n",
       "    </tr>\n",
       "    <tr>\n",
       "      <th>2020-01-04</th>\n",
       "      <td>1.016531</td>\n",
       "    </tr>\n",
       "    <tr>\n",
       "      <th>2020-01-05</th>\n",
       "      <td>1.028293</td>\n",
       "    </tr>\n",
       "  </tbody>\n",
       "</table>\n",
       "</div>"
      ],
      "text/plain": [
       "            Adj Close\n",
       "2020-01-01   1.007226\n",
       "2020-01-02   1.026865\n",
       "2020-01-03   1.026017\n",
       "2020-01-04   1.016531\n",
       "2020-01-05   1.028293"
      ]
     },
     "execution_count": 128,
     "metadata": {},
     "output_type": "execute_result"
    }
   ],
   "source": [
    "market_data.head()"
   ]
  },
  {
   "cell_type": "markdown",
   "id": "4bb57706",
   "metadata": {},
   "source": [
    "#### 2.1 Collection Historical Stock Data"
   ]
  },
  {
   "cell_type": "code",
   "execution_count": 94,
   "id": "2f1e4d90",
   "metadata": {},
   "outputs": [
    {
     "name": "stdout",
     "output_type": "stream",
     "text": [
      "[*********************100%***********************]  6 of 6 completed\n"
     ]
    }
   ],
   "source": [
    "# Step 1.1: Collect Historical Stock Price Data\n",
    "def get_stock_data(tickers, start_date, end_date):\n",
    "    stock_data = yf.download(tickers, start=start_date, end=end_date)['Adj Close']\n",
    "    return stock_data\n",
    "\n",
    "# Selected stocks and time range for data collection\n",
    "selected_stocks = ['MSFT', 'AMZN', 'GOOGL', 'TSLA', 'DELL', 'AAPL']\n",
    "start_date = '2020-01-01'\n",
    "end_date = '2023-01-01'\n",
    "\n",
    "# Fetch historical stock price data\n",
    "stock_data = get_stock_data(selected_stocks, start_date, end_date)"
   ]
  },
  {
   "cell_type": "code",
   "execution_count": 95,
   "id": "a5456980",
   "metadata": {},
   "outputs": [
    {
     "data": {
      "text/html": [
       "<div>\n",
       "<style scoped>\n",
       "    .dataframe tbody tr th:only-of-type {\n",
       "        vertical-align: middle;\n",
       "    }\n",
       "\n",
       "    .dataframe tbody tr th {\n",
       "        vertical-align: top;\n",
       "    }\n",
       "\n",
       "    .dataframe thead th {\n",
       "        text-align: right;\n",
       "    }\n",
       "</style>\n",
       "<table border=\"1\" class=\"dataframe\">\n",
       "  <thead>\n",
       "    <tr style=\"text-align: right;\">\n",
       "      <th></th>\n",
       "      <th>AAPL</th>\n",
       "      <th>AMZN</th>\n",
       "      <th>DELL</th>\n",
       "      <th>GOOGL</th>\n",
       "      <th>MSFT</th>\n",
       "      <th>TSLA</th>\n",
       "    </tr>\n",
       "    <tr>\n",
       "      <th>Date</th>\n",
       "      <th></th>\n",
       "      <th></th>\n",
       "      <th></th>\n",
       "      <th></th>\n",
       "      <th></th>\n",
       "      <th></th>\n",
       "    </tr>\n",
       "  </thead>\n",
       "  <tbody>\n",
       "    <tr>\n",
       "      <th>2020-01-02</th>\n",
       "      <td>73.347939</td>\n",
       "      <td>94.900497</td>\n",
       "      <td>25.437757</td>\n",
       "      <td>68.433998</td>\n",
       "      <td>155.422058</td>\n",
       "      <td>28.684000</td>\n",
       "    </tr>\n",
       "    <tr>\n",
       "      <th>2020-01-03</th>\n",
       "      <td>72.634834</td>\n",
       "      <td>93.748497</td>\n",
       "      <td>24.601021</td>\n",
       "      <td>68.075996</td>\n",
       "      <td>153.486755</td>\n",
       "      <td>29.534000</td>\n",
       "    </tr>\n",
       "    <tr>\n",
       "      <th>2020-01-06</th>\n",
       "      <td>73.213623</td>\n",
       "      <td>95.143997</td>\n",
       "      <td>24.849123</td>\n",
       "      <td>69.890503</td>\n",
       "      <td>153.883545</td>\n",
       "      <td>30.102667</td>\n",
       "    </tr>\n",
       "    <tr>\n",
       "      <th>2020-01-07</th>\n",
       "      <td>72.869293</td>\n",
       "      <td>95.343002</td>\n",
       "      <td>24.226437</td>\n",
       "      <td>69.755501</td>\n",
       "      <td>152.480438</td>\n",
       "      <td>31.270666</td>\n",
       "    </tr>\n",
       "    <tr>\n",
       "      <th>2020-01-08</th>\n",
       "      <td>74.041496</td>\n",
       "      <td>94.598503</td>\n",
       "      <td>24.323729</td>\n",
       "      <td>70.251999</td>\n",
       "      <td>154.909195</td>\n",
       "      <td>32.809334</td>\n",
       "    </tr>\n",
       "  </tbody>\n",
       "</table>\n",
       "</div>"
      ],
      "text/plain": [
       "                 AAPL       AMZN       DELL      GOOGL        MSFT       TSLA\n",
       "Date                                                                         \n",
       "2020-01-02  73.347939  94.900497  25.437757  68.433998  155.422058  28.684000\n",
       "2020-01-03  72.634834  93.748497  24.601021  68.075996  153.486755  29.534000\n",
       "2020-01-06  73.213623  95.143997  24.849123  69.890503  153.883545  30.102667\n",
       "2020-01-07  72.869293  95.343002  24.226437  69.755501  152.480438  31.270666\n",
       "2020-01-08  74.041496  94.598503  24.323729  70.251999  154.909195  32.809334"
      ]
     },
     "execution_count": 95,
     "metadata": {},
     "output_type": "execute_result"
    }
   ],
   "source": [
    "#checking the first five records in the dataset\n",
    "stock_data.head()"
   ]
  },
  {
   "cell_type": "code",
   "execution_count": 96,
   "id": "eda5937d",
   "metadata": {},
   "outputs": [
    {
     "data": {
      "text/html": [
       "<div>\n",
       "<style scoped>\n",
       "    .dataframe tbody tr th:only-of-type {\n",
       "        vertical-align: middle;\n",
       "    }\n",
       "\n",
       "    .dataframe tbody tr th {\n",
       "        vertical-align: top;\n",
       "    }\n",
       "\n",
       "    .dataframe thead th {\n",
       "        text-align: right;\n",
       "    }\n",
       "</style>\n",
       "<table border=\"1\" class=\"dataframe\">\n",
       "  <thead>\n",
       "    <tr style=\"text-align: right;\">\n",
       "      <th></th>\n",
       "      <th>AAPL</th>\n",
       "      <th>AMZN</th>\n",
       "      <th>DELL</th>\n",
       "      <th>GOOGL</th>\n",
       "      <th>MSFT</th>\n",
       "      <th>TSLA</th>\n",
       "    </tr>\n",
       "    <tr>\n",
       "      <th>Date</th>\n",
       "      <th></th>\n",
       "      <th></th>\n",
       "      <th></th>\n",
       "      <th></th>\n",
       "      <th></th>\n",
       "      <th></th>\n",
       "    </tr>\n",
       "  </thead>\n",
       "  <tbody>\n",
       "    <tr>\n",
       "      <th>2022-12-23</th>\n",
       "      <td>131.477127</td>\n",
       "      <td>85.250000</td>\n",
       "      <td>38.472378</td>\n",
       "      <td>89.230003</td>\n",
       "      <td>237.614105</td>\n",
       "      <td>123.150002</td>\n",
       "    </tr>\n",
       "    <tr>\n",
       "      <th>2022-12-27</th>\n",
       "      <td>129.652435</td>\n",
       "      <td>83.040001</td>\n",
       "      <td>38.757580</td>\n",
       "      <td>87.389999</td>\n",
       "      <td>235.852386</td>\n",
       "      <td>109.099998</td>\n",
       "    </tr>\n",
       "    <tr>\n",
       "      <th>2022-12-28</th>\n",
       "      <td>125.674026</td>\n",
       "      <td>81.820000</td>\n",
       "      <td>38.118340</td>\n",
       "      <td>86.019997</td>\n",
       "      <td>233.433731</td>\n",
       "      <td>112.709999</td>\n",
       "    </tr>\n",
       "    <tr>\n",
       "      <th>2022-12-29</th>\n",
       "      <td>129.233658</td>\n",
       "      <td>84.180000</td>\n",
       "      <td>39.160793</td>\n",
       "      <td>88.449997</td>\n",
       "      <td>239.883453</td>\n",
       "      <td>121.820000</td>\n",
       "    </tr>\n",
       "    <tr>\n",
       "      <th>2022-12-30</th>\n",
       "      <td>129.552719</td>\n",
       "      <td>84.000000</td>\n",
       "      <td>39.554173</td>\n",
       "      <td>88.230003</td>\n",
       "      <td>238.699020</td>\n",
       "      <td>123.180000</td>\n",
       "    </tr>\n",
       "  </tbody>\n",
       "</table>\n",
       "</div>"
      ],
      "text/plain": [
       "                  AAPL       AMZN       DELL      GOOGL        MSFT  \\\n",
       "Date                                                                  \n",
       "2022-12-23  131.477127  85.250000  38.472378  89.230003  237.614105   \n",
       "2022-12-27  129.652435  83.040001  38.757580  87.389999  235.852386   \n",
       "2022-12-28  125.674026  81.820000  38.118340  86.019997  233.433731   \n",
       "2022-12-29  129.233658  84.180000  39.160793  88.449997  239.883453   \n",
       "2022-12-30  129.552719  84.000000  39.554173  88.230003  238.699020   \n",
       "\n",
       "                  TSLA  \n",
       "Date                    \n",
       "2022-12-23  123.150002  \n",
       "2022-12-27  109.099998  \n",
       "2022-12-28  112.709999  \n",
       "2022-12-29  121.820000  \n",
       "2022-12-30  123.180000  "
      ]
     },
     "execution_count": 96,
     "metadata": {},
     "output_type": "execute_result"
    }
   ],
   "source": [
    "#checking the last five records in the dataset\n",
    "stock_data.tail()"
   ]
  },
  {
   "cell_type": "code",
   "execution_count": 97,
   "id": "b43a82d2",
   "metadata": {},
   "outputs": [
    {
     "data": {
      "text/plain": [
       "(756, 6)"
      ]
     },
     "execution_count": 97,
     "metadata": {},
     "output_type": "execute_result"
    }
   ],
   "source": [
    "# Checking the number rows and records\n",
    "stock_data.shape"
   ]
  },
  {
   "cell_type": "code",
   "execution_count": 98,
   "id": "2901cc8c",
   "metadata": {},
   "outputs": [
    {
     "data": {
      "text/html": [
       "<div>\n",
       "<style scoped>\n",
       "    .dataframe tbody tr th:only-of-type {\n",
       "        vertical-align: middle;\n",
       "    }\n",
       "\n",
       "    .dataframe tbody tr th {\n",
       "        vertical-align: top;\n",
       "    }\n",
       "\n",
       "    .dataframe thead th {\n",
       "        text-align: right;\n",
       "    }\n",
       "</style>\n",
       "<table border=\"1\" class=\"dataframe\">\n",
       "  <thead>\n",
       "    <tr style=\"text-align: right;\">\n",
       "      <th></th>\n",
       "      <th>AAPL</th>\n",
       "      <th>AMZN</th>\n",
       "      <th>DELL</th>\n",
       "      <th>GOOGL</th>\n",
       "      <th>MSFT</th>\n",
       "      <th>TSLA</th>\n",
       "    </tr>\n",
       "  </thead>\n",
       "  <tbody>\n",
       "    <tr>\n",
       "      <th>count</th>\n",
       "      <td>756.000000</td>\n",
       "      <td>756.000000</td>\n",
       "      <td>756.000000</td>\n",
       "      <td>756.000000</td>\n",
       "      <td>756.000000</td>\n",
       "      <td>756.000000</td>\n",
       "    </tr>\n",
       "    <tr>\n",
       "      <th>mean</th>\n",
       "      <td>128.910999</td>\n",
       "      <td>142.455482</td>\n",
       "      <td>39.576925</td>\n",
       "      <td>104.257655</td>\n",
       "      <td>241.644998</td>\n",
       "      <td>206.365502</td>\n",
       "    </tr>\n",
       "    <tr>\n",
       "      <th>std</th>\n",
       "      <td>30.726050</td>\n",
       "      <td>27.856019</td>\n",
       "      <td>10.843333</td>\n",
       "      <td>26.472870</td>\n",
       "      <td>47.908623</td>\n",
       "      <td>95.856975</td>\n",
       "    </tr>\n",
       "    <tr>\n",
       "      <th>min</th>\n",
       "      <td>54.923035</td>\n",
       "      <td>81.820000</td>\n",
       "      <td>14.044520</td>\n",
       "      <td>52.706501</td>\n",
       "      <td>131.395462</td>\n",
       "      <td>24.081333</td>\n",
       "    </tr>\n",
       "    <tr>\n",
       "      <th>25%</th>\n",
       "      <td>113.837992</td>\n",
       "      <td>118.337875</td>\n",
       "      <td>32.157181</td>\n",
       "      <td>78.220125</td>\n",
       "      <td>207.211609</td>\n",
       "      <td>138.270828</td>\n",
       "    </tr>\n",
       "    <tr>\n",
       "      <th>50%</th>\n",
       "      <td>134.342514</td>\n",
       "      <td>154.467499</td>\n",
       "      <td>41.493462</td>\n",
       "      <td>104.272999</td>\n",
       "      <td>242.658905</td>\n",
       "      <td>223.651665</td>\n",
       "    </tr>\n",
       "    <tr>\n",
       "      <th>75%</th>\n",
       "      <td>149.705551</td>\n",
       "      <td>164.633247</td>\n",
       "      <td>48.300842</td>\n",
       "      <td>126.982876</td>\n",
       "      <td>279.866753</td>\n",
       "      <td>276.565002</td>\n",
       "    </tr>\n",
       "    <tr>\n",
       "      <th>max</th>\n",
       "      <td>180.434280</td>\n",
       "      <td>186.570496</td>\n",
       "      <td>58.327915</td>\n",
       "      <td>149.838501</td>\n",
       "      <td>338.335968</td>\n",
       "      <td>409.970001</td>\n",
       "    </tr>\n",
       "  </tbody>\n",
       "</table>\n",
       "</div>"
      ],
      "text/plain": [
       "             AAPL        AMZN        DELL       GOOGL        MSFT        TSLA\n",
       "count  756.000000  756.000000  756.000000  756.000000  756.000000  756.000000\n",
       "mean   128.910999  142.455482   39.576925  104.257655  241.644998  206.365502\n",
       "std     30.726050   27.856019   10.843333   26.472870   47.908623   95.856975\n",
       "min     54.923035   81.820000   14.044520   52.706501  131.395462   24.081333\n",
       "25%    113.837992  118.337875   32.157181   78.220125  207.211609  138.270828\n",
       "50%    134.342514  154.467499   41.493462  104.272999  242.658905  223.651665\n",
       "75%    149.705551  164.633247   48.300842  126.982876  279.866753  276.565002\n",
       "max    180.434280  186.570496   58.327915  149.838501  338.335968  409.970001"
      ]
     },
     "execution_count": 98,
     "metadata": {},
     "output_type": "execute_result"
    }
   ],
   "source": [
    "# Checking the data summary\n",
    "stock_data.describe()"
   ]
  },
  {
   "cell_type": "markdown",
   "id": "033c6466",
   "metadata": {},
   "source": [
    "#### 2.2: Calculate Daily Returns and Relevant Metrics"
   ]
  },
  {
   "cell_type": "code",
   "execution_count": 99,
   "id": "cf197955",
   "metadata": {},
   "outputs": [],
   "source": [
    "# Step 1.2: Calculate Daily Returns and Relevant Metrics\n",
    "def calculate_daily_returns(stock_data):\n",
    "    return stock_data.pct_change().dropna()\n",
    "\n",
    "# Calculate daily returns\n",
    "daily_returns = calculate_daily_returns(stock_data)"
   ]
  },
  {
   "cell_type": "code",
   "execution_count": 100,
   "id": "10826962",
   "metadata": {},
   "outputs": [
    {
     "data": {
      "text/html": [
       "<div>\n",
       "<style scoped>\n",
       "    .dataframe tbody tr th:only-of-type {\n",
       "        vertical-align: middle;\n",
       "    }\n",
       "\n",
       "    .dataframe tbody tr th {\n",
       "        vertical-align: top;\n",
       "    }\n",
       "\n",
       "    .dataframe thead th {\n",
       "        text-align: right;\n",
       "    }\n",
       "</style>\n",
       "<table border=\"1\" class=\"dataframe\">\n",
       "  <thead>\n",
       "    <tr style=\"text-align: right;\">\n",
       "      <th></th>\n",
       "      <th>AAPL</th>\n",
       "      <th>AMZN</th>\n",
       "      <th>DELL</th>\n",
       "      <th>GOOGL</th>\n",
       "      <th>MSFT</th>\n",
       "      <th>TSLA</th>\n",
       "    </tr>\n",
       "    <tr>\n",
       "      <th>Date</th>\n",
       "      <th></th>\n",
       "      <th></th>\n",
       "      <th></th>\n",
       "      <th></th>\n",
       "      <th></th>\n",
       "      <th></th>\n",
       "    </tr>\n",
       "  </thead>\n",
       "  <tbody>\n",
       "    <tr>\n",
       "      <th>2020-01-03</th>\n",
       "      <td>-0.009722</td>\n",
       "      <td>-0.012139</td>\n",
       "      <td>-0.032893</td>\n",
       "      <td>-0.005231</td>\n",
       "      <td>-0.012452</td>\n",
       "      <td>0.029633</td>\n",
       "    </tr>\n",
       "    <tr>\n",
       "      <th>2020-01-06</th>\n",
       "      <td>0.007968</td>\n",
       "      <td>0.014886</td>\n",
       "      <td>0.010085</td>\n",
       "      <td>0.026654</td>\n",
       "      <td>0.002585</td>\n",
       "      <td>0.019255</td>\n",
       "    </tr>\n",
       "    <tr>\n",
       "      <th>2020-01-07</th>\n",
       "      <td>-0.004703</td>\n",
       "      <td>0.002092</td>\n",
       "      <td>-0.025059</td>\n",
       "      <td>-0.001932</td>\n",
       "      <td>-0.009118</td>\n",
       "      <td>0.038801</td>\n",
       "    </tr>\n",
       "    <tr>\n",
       "      <th>2020-01-08</th>\n",
       "      <td>0.016086</td>\n",
       "      <td>-0.007809</td>\n",
       "      <td>0.004016</td>\n",
       "      <td>0.007118</td>\n",
       "      <td>0.015928</td>\n",
       "      <td>0.049205</td>\n",
       "    </tr>\n",
       "    <tr>\n",
       "      <th>2020-01-09</th>\n",
       "      <td>0.021241</td>\n",
       "      <td>0.004799</td>\n",
       "      <td>-0.007600</td>\n",
       "      <td>0.010498</td>\n",
       "      <td>0.012493</td>\n",
       "      <td>-0.021945</td>\n",
       "    </tr>\n",
       "  </tbody>\n",
       "</table>\n",
       "</div>"
      ],
      "text/plain": [
       "                AAPL      AMZN      DELL     GOOGL      MSFT      TSLA\n",
       "Date                                                                  \n",
       "2020-01-03 -0.009722 -0.012139 -0.032893 -0.005231 -0.012452  0.029633\n",
       "2020-01-06  0.007968  0.014886  0.010085  0.026654  0.002585  0.019255\n",
       "2020-01-07 -0.004703  0.002092 -0.025059 -0.001932 -0.009118  0.038801\n",
       "2020-01-08  0.016086 -0.007809  0.004016  0.007118  0.015928  0.049205\n",
       "2020-01-09  0.021241  0.004799 -0.007600  0.010498  0.012493 -0.021945"
      ]
     },
     "execution_count": 100,
     "metadata": {},
     "output_type": "execute_result"
    }
   ],
   "source": [
    "daily_returns.head()"
   ]
  },
  {
   "cell_type": "markdown",
   "id": "e6a49f39",
   "metadata": {},
   "source": [
    "#### 2.3: Prepare Macroeconomic Data"
   ]
  },
  {
   "cell_type": "code",
   "execution_count": 101,
   "id": "c1d24078",
   "metadata": {},
   "outputs": [],
   "source": [
    "# In this assignment, dummy macroeconomic data will be generated for illustration purposes.\n",
    "# In a real-world scenario, these data would need to fetch actual macroeconomic data from reliable sources like the world bank.\n",
    "def create_dummy_macroeconomic_data(start_date, end_date):\n",
    "    date_range = pd.date_range(start=start_date, end=end_date, freq='D')\n",
    "    dummy_data = pd.DataFrame({\n",
    "        'Interest_Rate': [0.02] * len(date_range),  # Constant interest rate for illustration\n",
    "        'Inflation_Rate': [0.015] * len(date_range),  # Constant inflation rate for illustration\n",
    "        'GDP_Growth_Rate': [0.03] * len(date_range),  # Constant GDP growth rate for illustration\n",
    "        'Government_Policy': ['Stable'] * len(date_range),  # Constant government policy for illustration\n",
    "    }, index=date_range)\n",
    "    return dummy_data\n",
    "\n",
    "# Create dummy macroeconomic data for the same time range as stock data\n",
    "macroeconomic_data = create_dummy_macroeconomic_data(start_date, end_date)"
   ]
  },
  {
   "cell_type": "code",
   "execution_count": 102,
   "id": "ca238f0c",
   "metadata": {},
   "outputs": [
    {
     "data": {
      "text/html": [
       "<div>\n",
       "<style scoped>\n",
       "    .dataframe tbody tr th:only-of-type {\n",
       "        vertical-align: middle;\n",
       "    }\n",
       "\n",
       "    .dataframe tbody tr th {\n",
       "        vertical-align: top;\n",
       "    }\n",
       "\n",
       "    .dataframe thead th {\n",
       "        text-align: right;\n",
       "    }\n",
       "</style>\n",
       "<table border=\"1\" class=\"dataframe\">\n",
       "  <thead>\n",
       "    <tr style=\"text-align: right;\">\n",
       "      <th></th>\n",
       "      <th>Interest_Rate</th>\n",
       "      <th>Inflation_Rate</th>\n",
       "      <th>GDP_Growth_Rate</th>\n",
       "      <th>Government_Policy</th>\n",
       "    </tr>\n",
       "  </thead>\n",
       "  <tbody>\n",
       "    <tr>\n",
       "      <th>2020-01-01</th>\n",
       "      <td>0.02</td>\n",
       "      <td>0.015</td>\n",
       "      <td>0.03</td>\n",
       "      <td>Stable</td>\n",
       "    </tr>\n",
       "    <tr>\n",
       "      <th>2020-01-02</th>\n",
       "      <td>0.02</td>\n",
       "      <td>0.015</td>\n",
       "      <td>0.03</td>\n",
       "      <td>Stable</td>\n",
       "    </tr>\n",
       "    <tr>\n",
       "      <th>2020-01-03</th>\n",
       "      <td>0.02</td>\n",
       "      <td>0.015</td>\n",
       "      <td>0.03</td>\n",
       "      <td>Stable</td>\n",
       "    </tr>\n",
       "    <tr>\n",
       "      <th>2020-01-04</th>\n",
       "      <td>0.02</td>\n",
       "      <td>0.015</td>\n",
       "      <td>0.03</td>\n",
       "      <td>Stable</td>\n",
       "    </tr>\n",
       "    <tr>\n",
       "      <th>2020-01-05</th>\n",
       "      <td>0.02</td>\n",
       "      <td>0.015</td>\n",
       "      <td>0.03</td>\n",
       "      <td>Stable</td>\n",
       "    </tr>\n",
       "  </tbody>\n",
       "</table>\n",
       "</div>"
      ],
      "text/plain": [
       "            Interest_Rate  Inflation_Rate  GDP_Growth_Rate Government_Policy\n",
       "2020-01-01           0.02           0.015             0.03            Stable\n",
       "2020-01-02           0.02           0.015             0.03            Stable\n",
       "2020-01-03           0.02           0.015             0.03            Stable\n",
       "2020-01-04           0.02           0.015             0.03            Stable\n",
       "2020-01-05           0.02           0.015             0.03            Stable"
      ]
     },
     "execution_count": 102,
     "metadata": {},
     "output_type": "execute_result"
    }
   ],
   "source": [
    "macroeconomic_data.head()"
   ]
  },
  {
   "cell_type": "markdown",
   "id": "089f28ca",
   "metadata": {},
   "source": [
    "### 3. Portfolio Evolution"
   ]
  },
  {
   "cell_type": "code",
   "execution_count": 104,
   "id": "549cc59f",
   "metadata": {},
   "outputs": [],
   "source": [
    "# Given asset allocation percentages\n",
    "allocation_percentages = {\n",
    "    'MSFT': 0.20,\n",
    "    'AMZN': 0.15,\n",
    "    'GOOGL': 0.18,\n",
    "    'TSLA': 0.20,\n",
    "    'DELL': 0.12,\n",
    "    'AAPL': 0.15,\n",
    "}"
   ]
  },
  {
   "cell_type": "code",
   "execution_count": 105,
   "id": "7e2bec6f",
   "metadata": {},
   "outputs": [],
   "source": [
    "# Calculate the total portfolio value based on the historical stock data\n",
    "total_portfolio_value = stock_data.iloc[-1]  # Last row of stock data represents the latest stock prices\n",
    "total_portfolio_value = total_portfolio_value.dot([allocation_percentages[symbol] for symbol in selected_stocks])"
   ]
  },
  {
   "cell_type": "code",
   "execution_count": 106,
   "id": "b9430cf5",
   "metadata": {},
   "outputs": [],
   "source": [
    "# Calculate the allocation amount for each stock based on the total portfolio value\n",
    "allocation_amount = {symbol: total_portfolio_value * allocation_percentages[symbol] for symbol in selected_stocks}"
   ]
  },
  {
   "cell_type": "code",
   "execution_count": 107,
   "id": "763ba9be",
   "metadata": {},
   "outputs": [
    {
     "name": "stdout",
     "output_type": "stream",
     "text": [
      "Asset Allocation:\n",
      "MSFT: 22.08 USD\n",
      "AMZN: 16.56 USD\n",
      "GOOGL: 19.87 USD\n",
      "TSLA: 22.08 USD\n",
      "DELL: 13.25 USD\n",
      "AAPL: 16.56 USD\n"
     ]
    }
   ],
   "source": [
    "print(\"Asset Allocation:\")\n",
    "for symbol in selected_stocks:\n",
    "    print(f\"{symbol}: {allocation_amount[symbol]:.2f} USD\")"
   ]
  },
  {
   "cell_type": "markdown",
   "id": "a93a84cf",
   "metadata": {},
   "source": [
    "#### 3.1 Applying Asset Allocation to Create the Portfolio"
   ]
  },
  {
   "cell_type": "code",
   "execution_count": 108,
   "id": "bf1ad9c1",
   "metadata": {},
   "outputs": [],
   "source": [
    "portfolio = daily_returns[selected_stocks].mul(list(allocation_percentages.values()))"
   ]
  },
  {
   "cell_type": "code",
   "execution_count": 109,
   "id": "a03a7028",
   "metadata": {},
   "outputs": [
    {
     "name": "stdout",
     "output_type": "stream",
     "text": [
      "                MSFT      AMZN     GOOGL      TSLA      DELL      AAPL\n",
      "Date                                                                  \n",
      "2020-01-03 -0.002490 -0.001821 -0.000942  0.005927 -0.003947 -0.001458\n",
      "2020-01-06  0.000517  0.002233  0.004798  0.003851  0.001210  0.001195\n",
      "2020-01-07 -0.001824  0.000314 -0.000348  0.007760 -0.003007 -0.000705\n",
      "2020-01-08  0.003186 -0.001171  0.001281  0.009841  0.000482  0.002413\n",
      "2020-01-09  0.002499  0.000720  0.001890 -0.004389 -0.000912  0.003186\n",
      "...              ...       ...       ...       ...       ...       ...\n",
      "2022-12-23  0.000453  0.002614  0.003015 -0.003510 -0.000061 -0.000420\n",
      "2022-12-27 -0.001483 -0.003889 -0.003712 -0.022818  0.000890 -0.002082\n",
      "2022-12-28 -0.002051 -0.002204 -0.002822  0.006618 -0.001979 -0.004603\n",
      "2022-12-29  0.005526  0.004327  0.005085  0.016165  0.003282  0.004249\n",
      "2022-12-30 -0.000988 -0.000321 -0.000448  0.002233  0.001205  0.000370\n",
      "\n",
      "[755 rows x 6 columns]\n"
     ]
    }
   ],
   "source": [
    "print(portfolio)"
   ]
  },
  {
   "cell_type": "markdown",
   "id": "24b69816",
   "metadata": {},
   "source": [
    "#### 3.2: Calculate Portfolio Metrics"
   ]
  },
  {
   "cell_type": "code",
   "execution_count": 110,
   "id": "fc89df2a",
   "metadata": {},
   "outputs": [],
   "source": [
    "portfolio_returns = portfolio.sum(axis=1)\n",
    "portfolio_risk = portfolio_returns.std()"
   ]
  },
  {
   "cell_type": "code",
   "execution_count": 127,
   "id": "60aa2a7e",
   "metadata": {},
   "outputs": [],
   "source": [
    "# Calculate overall portfolio beta and alpha\n",
    "portfolio_vs_market_returns = pd.concat([portfolio_returns, market_data], axis=1).dropna()\n",
    "cov_matrix_portfolio = np.cov(portfolio_vs_market_returns.T)\n",
    "portfolio_beta = cov_matrix_portfolio[0, 1] / cov_matrix_portfolio[1, 1]\n",
    "X_portfolio = np.vstack([portfolio_vs_market_returns.iloc[:, 1], np.ones(len(portfolio_vs_market_returns))]).T\n",
    "y_portfolio = portfolio_vs_market_returns.iloc[:, 0]\n",
    "portfolio_alpha, _ = np.linalg.lstsq(X_portfolio, y_portfolio, rcond=None)[0]"
   ]
  },
  {
   "cell_type": "code",
   "execution_count": 129,
   "id": "dae112ac",
   "metadata": {},
   "outputs": [],
   "source": [
    "# Calculate Maximum Drawdown\n",
    "cumulative_returns = (portfolio_returns + 1).cumprod()\n",
    "rolling_max = cumulative_returns.rolling(window=len(cumulative_returns), min_periods=1).max()\n",
    "drawdown = cumulative_returns / rolling_max - 1\n",
    "max_drawdown = drawdown.min()"
   ]
  },
  {
   "cell_type": "code",
   "execution_count": 130,
   "id": "1b004b80",
   "metadata": {},
   "outputs": [
    {
     "name": "stdout",
     "output_type": "stream",
     "text": [
      "Overall Portfolio Returns:\n",
      "Date\n",
      "2020-01-03   -0.004732\n",
      "2020-01-06    0.013804\n",
      "2020-01-07    0.002190\n",
      "2020-01-08    0.016031\n",
      "2020-01-09    0.002993\n",
      "                ...   \n",
      "2022-12-23    0.002091\n",
      "2022-12-27   -0.033093\n",
      "2022-12-28   -0.007041\n",
      "2022-12-29    0.038633\n",
      "2022-12-30    0.002053\n",
      "Length: 755, dtype: float64\n",
      "\n",
      "Overall Portfolio Risk (Standard Deviation of Returns):\n",
      "0.02224045743216008\n",
      "\n",
      "Overall Portfolio Beta:\n",
      "-0.00747439732423739\n",
      "\n",
      "Overall Portfolio Alpha:\n",
      "-0.007474397324237391\n",
      "\n",
      "Maximum Drawdown:\n",
      "-0.4440338477733885\n"
     ]
    }
   ],
   "source": [
    "# Display Portfolio Metrics\n",
    "print(\"Overall Portfolio Returns:\")\n",
    "print(portfolio_returns)\n",
    "print(\"\\nOverall Portfolio Risk (Standard Deviation of Returns):\")\n",
    "print(portfolio_risk)\n",
    "print(\"\\nOverall Portfolio Beta:\")\n",
    "print(portfolio_beta)\n",
    "print(\"\\nOverall Portfolio Alpha:\")\n",
    "print(portfolio_alpha)\n",
    "print(\"\\nMaximum Drawdown:\")\n",
    "print(max_drawdown)"
   ]
  },
  {
   "cell_type": "markdown",
   "id": "7e299370",
   "metadata": {},
   "source": [
    "### 3.3: Portfolio Diversification Analysis (Covariance Matrix)"
   ]
  },
  {
   "cell_type": "code",
   "execution_count": 131,
   "id": "51ac7cd7",
   "metadata": {},
   "outputs": [],
   "source": [
    "cov_matrix_portfolio = np.cov(portfolio.T)\n",
    "portfolio_volatility = np.sqrt(np.diag(cov_matrix_portfolio))\n",
    "diversification_ratio = portfolio_risk / np.sum(portfolio_volatility)"
   ]
  },
  {
   "cell_type": "code",
   "execution_count": 132,
   "id": "44fa7724",
   "metadata": {},
   "outputs": [
    {
     "name": "stdout",
     "output_type": "stream",
     "text": [
      "\n",
      "Portfolio Volatility (Standard Deviation of Returns for each Asset):\n",
      "[0.00437899 0.00369313 0.00391459 0.00909486 0.00309958 0.00348987]\n",
      "\n",
      "Diversification Ratio (Risk Reduction achieved by combining the assets):\n",
      "0.8037456090470148\n"
     ]
    }
   ],
   "source": [
    "# Display Diversification Metrics\n",
    "print(\"\\nPortfolio Volatility (Standard Deviation of Returns for each Asset):\")\n",
    "print(portfolio_volatility)\n",
    "print(\"\\nDiversification Ratio (Risk Reduction achieved by combining the assets):\")\n",
    "print(diversification_ratio)"
   ]
  },
  {
   "cell_type": "markdown",
   "id": "3a58b08c",
   "metadata": {},
   "source": [
    "### Step 4: Machine Learning Model Training and Selection"
   ]
  },
  {
   "cell_type": "markdown",
   "id": "5a194a60",
   "metadata": {},
   "source": [
    "#### 4.1: Split Data into Training, Testing, and Validation Sets"
   ]
  },
  {
   "cell_type": "code",
   "execution_count": 136,
   "id": "77db0063",
   "metadata": {},
   "outputs": [],
   "source": [
    "train_data, temp_data = train_test_split(daily_returns, test_size=0.3, random_state=42)\n",
    "test_data, val_data = train_test_split(temp_data, test_size=0.5, random_state=42)"
   ]
  },
  {
   "cell_type": "markdown",
   "id": "f9935942",
   "metadata": {},
   "source": [
    "#### 4.2: Choose Machine Learning Algorithms"
   ]
  },
  {
   "cell_type": "code",
   "execution_count": 141,
   "id": "123a41bb",
   "metadata": {},
   "outputs": [],
   "source": [
    "models = {\n",
    "    'Linear Regression': LinearRegression(),\n",
    "    'Random Forest': RandomForestRegressor(random_state=42),\n",
    "    'Gradient Boosting': GradientBoostingRegressor(random_state=42),\n",
    "    #'Support Vector Regression': SVR(),\n",
    "    #'Neural Network': MLPRegressor(random_state=42)\n",
    "}"
   ]
  },
  {
   "cell_type": "markdown",
   "id": "f03f0eae",
   "metadata": {},
   "source": [
    "#### 4.3: Train Each Algorithm on the Training Data"
   ]
  },
  {
   "cell_type": "code",
   "execution_count": 147,
   "id": "2319c9dd",
   "metadata": {},
   "outputs": [],
   "source": [
    "X_train = train_data  # Features (excluding the portfolio returns)\n",
    "y_train = portfolio_returns  # Portfolio returns\n",
    "X_test = test_data\n",
    "y_test = portfolio_returns\n",
    "X_val = val_data\n",
    "y_val = portfolio_returns"
   ]
  },
  {
   "cell_type": "code",
   "execution_count": 150,
   "id": "7c9dcf8e",
   "metadata": {},
   "outputs": [
    {
     "ename": "ValueError",
     "evalue": "Found input variables with inconsistent numbers of samples: [528, 755]",
     "output_type": "error",
     "traceback": [
      "\u001b[1;31m---------------------------------------------------------------------------\u001b[0m",
      "\u001b[1;31mValueError\u001b[0m                                Traceback (most recent call last)",
      "\u001b[1;32m~\\AppData\\Local\\Temp\\ipykernel_24260\\2090875570.py\u001b[0m in \u001b[0;36m<module>\u001b[1;34m\u001b[0m\n\u001b[0;32m      6\u001b[0m     \u001b[0mprint\u001b[0m\u001b[1;33m(\u001b[0m\u001b[1;34m\"Warning: Missing values still present after mean imputation.\"\u001b[0m\u001b[1;33m)\u001b[0m\u001b[1;33m\u001b[0m\u001b[1;33m\u001b[0m\u001b[0m\n\u001b[0;32m      7\u001b[0m \u001b[1;32melse\u001b[0m\u001b[1;33m:\u001b[0m\u001b[1;33m\u001b[0m\u001b[1;33m\u001b[0m\u001b[0m\n\u001b[1;32m----> 8\u001b[1;33m     \u001b[0mX_train\u001b[0m\u001b[1;33m,\u001b[0m \u001b[0mX_val\u001b[0m\u001b[1;33m,\u001b[0m \u001b[0my_train_mean_imputed\u001b[0m\u001b[1;33m,\u001b[0m \u001b[0my_val\u001b[0m \u001b[1;33m=\u001b[0m \u001b[0mtrain_test_split\u001b[0m\u001b[1;33m(\u001b[0m\u001b[0mX_train\u001b[0m\u001b[1;33m,\u001b[0m \u001b[0my_train_mean_imputed\u001b[0m\u001b[1;33m,\u001b[0m \u001b[0mtest_size\u001b[0m\u001b[1;33m=\u001b[0m\u001b[1;36m0.15\u001b[0m\u001b[1;33m,\u001b[0m \u001b[0mrandom_state\u001b[0m\u001b[1;33m=\u001b[0m\u001b[1;36m42\u001b[0m\u001b[1;33m)\u001b[0m\u001b[1;33m\u001b[0m\u001b[1;33m\u001b[0m\u001b[0m\n\u001b[0m\u001b[0;32m      9\u001b[0m     \u001b[1;32mfor\u001b[0m \u001b[0mmodel_name\u001b[0m\u001b[1;33m,\u001b[0m \u001b[0mmodel\u001b[0m \u001b[1;32min\u001b[0m \u001b[0mmodels\u001b[0m\u001b[1;33m.\u001b[0m\u001b[0mitems\u001b[0m\u001b[1;33m(\u001b[0m\u001b[1;33m)\u001b[0m\u001b[1;33m:\u001b[0m\u001b[1;33m\u001b[0m\u001b[1;33m\u001b[0m\u001b[0m\n\u001b[0;32m     10\u001b[0m         \u001b[0mmodel\u001b[0m\u001b[1;33m.\u001b[0m\u001b[0mfit\u001b[0m\u001b[1;33m(\u001b[0m\u001b[0mX_train\u001b[0m\u001b[1;33m,\u001b[0m \u001b[0my_train_mean_imputed\u001b[0m\u001b[1;33m)\u001b[0m\u001b[1;33m\u001b[0m\u001b[1;33m\u001b[0m\u001b[0m\n",
      "\u001b[1;32m~\\anaconda3\\lib\\site-packages\\sklearn\\model_selection\\_split.py\u001b[0m in \u001b[0;36mtrain_test_split\u001b[1;34m(test_size, train_size, random_state, shuffle, stratify, *arrays)\u001b[0m\n\u001b[0;32m   2557\u001b[0m         \u001b[1;32mraise\u001b[0m \u001b[0mValueError\u001b[0m\u001b[1;33m(\u001b[0m\u001b[1;34m\"At least one array required as input\"\u001b[0m\u001b[1;33m)\u001b[0m\u001b[1;33m\u001b[0m\u001b[1;33m\u001b[0m\u001b[0m\n\u001b[0;32m   2558\u001b[0m \u001b[1;33m\u001b[0m\u001b[0m\n\u001b[1;32m-> 2559\u001b[1;33m     \u001b[0marrays\u001b[0m \u001b[1;33m=\u001b[0m \u001b[0mindexable\u001b[0m\u001b[1;33m(\u001b[0m\u001b[1;33m*\u001b[0m\u001b[0marrays\u001b[0m\u001b[1;33m)\u001b[0m\u001b[1;33m\u001b[0m\u001b[1;33m\u001b[0m\u001b[0m\n\u001b[0m\u001b[0;32m   2560\u001b[0m \u001b[1;33m\u001b[0m\u001b[0m\n\u001b[0;32m   2561\u001b[0m     \u001b[0mn_samples\u001b[0m \u001b[1;33m=\u001b[0m \u001b[0m_num_samples\u001b[0m\u001b[1;33m(\u001b[0m\u001b[0marrays\u001b[0m\u001b[1;33m[\u001b[0m\u001b[1;36m0\u001b[0m\u001b[1;33m]\u001b[0m\u001b[1;33m)\u001b[0m\u001b[1;33m\u001b[0m\u001b[1;33m\u001b[0m\u001b[0m\n",
      "\u001b[1;32m~\\anaconda3\\lib\\site-packages\\sklearn\\utils\\validation.py\u001b[0m in \u001b[0;36mindexable\u001b[1;34m(*iterables)\u001b[0m\n\u001b[0;32m    441\u001b[0m \u001b[1;33m\u001b[0m\u001b[0m\n\u001b[0;32m    442\u001b[0m     \u001b[0mresult\u001b[0m \u001b[1;33m=\u001b[0m \u001b[1;33m[\u001b[0m\u001b[0m_make_indexable\u001b[0m\u001b[1;33m(\u001b[0m\u001b[0mX\u001b[0m\u001b[1;33m)\u001b[0m \u001b[1;32mfor\u001b[0m \u001b[0mX\u001b[0m \u001b[1;32min\u001b[0m \u001b[0miterables\u001b[0m\u001b[1;33m]\u001b[0m\u001b[1;33m\u001b[0m\u001b[1;33m\u001b[0m\u001b[0m\n\u001b[1;32m--> 443\u001b[1;33m     \u001b[0mcheck_consistent_length\u001b[0m\u001b[1;33m(\u001b[0m\u001b[1;33m*\u001b[0m\u001b[0mresult\u001b[0m\u001b[1;33m)\u001b[0m\u001b[1;33m\u001b[0m\u001b[1;33m\u001b[0m\u001b[0m\n\u001b[0m\u001b[0;32m    444\u001b[0m     \u001b[1;32mreturn\u001b[0m \u001b[0mresult\u001b[0m\u001b[1;33m\u001b[0m\u001b[1;33m\u001b[0m\u001b[0m\n\u001b[0;32m    445\u001b[0m \u001b[1;33m\u001b[0m\u001b[0m\n",
      "\u001b[1;32m~\\anaconda3\\lib\\site-packages\\sklearn\\utils\\validation.py\u001b[0m in \u001b[0;36mcheck_consistent_length\u001b[1;34m(*arrays)\u001b[0m\n\u001b[0;32m    395\u001b[0m     \u001b[0muniques\u001b[0m \u001b[1;33m=\u001b[0m \u001b[0mnp\u001b[0m\u001b[1;33m.\u001b[0m\u001b[0munique\u001b[0m\u001b[1;33m(\u001b[0m\u001b[0mlengths\u001b[0m\u001b[1;33m)\u001b[0m\u001b[1;33m\u001b[0m\u001b[1;33m\u001b[0m\u001b[0m\n\u001b[0;32m    396\u001b[0m     \u001b[1;32mif\u001b[0m \u001b[0mlen\u001b[0m\u001b[1;33m(\u001b[0m\u001b[0muniques\u001b[0m\u001b[1;33m)\u001b[0m \u001b[1;33m>\u001b[0m \u001b[1;36m1\u001b[0m\u001b[1;33m:\u001b[0m\u001b[1;33m\u001b[0m\u001b[1;33m\u001b[0m\u001b[0m\n\u001b[1;32m--> 397\u001b[1;33m         raise ValueError(\n\u001b[0m\u001b[0;32m    398\u001b[0m             \u001b[1;34m\"Found input variables with inconsistent numbers of samples: %r\"\u001b[0m\u001b[1;33m\u001b[0m\u001b[1;33m\u001b[0m\u001b[0m\n\u001b[0;32m    399\u001b[0m             \u001b[1;33m%\u001b[0m \u001b[1;33m[\u001b[0m\u001b[0mint\u001b[0m\u001b[1;33m(\u001b[0m\u001b[0ml\u001b[0m\u001b[1;33m)\u001b[0m \u001b[1;32mfor\u001b[0m \u001b[0ml\u001b[0m \u001b[1;32min\u001b[0m \u001b[0mlengths\u001b[0m\u001b[1;33m]\u001b[0m\u001b[1;33m\u001b[0m\u001b[1;33m\u001b[0m\u001b[0m\n",
      "\u001b[1;31mValueError\u001b[0m: Found input variables with inconsistent numbers of samples: [528, 755]"
     ]
    }
   ],
   "source": [
    "y_train_mean_imputed = y_train.copy()\n",
    "y_train_mean_imputed.fillna(y_train.mean(), inplace=True)\n",
    "\n",
    "# Check if there are any missing values in the imputed data\n",
    "if y_train_mean_imputed.isnull().any().any():\n",
    "    print(\"Warning: Missing values still present after mean imputation.\")\n",
    "else:\n",
    "    X_train, X_val, y_train_mean_imputed, y_val = train_test_split(X_train, y_train_mean_imputed, test_size=0.15, random_state=42)\n",
    "    for model_name, model in models.items():\n",
    "        model.fit(X_train, y_train_mean_imputed)\n",
    "\n",
    "        # Step 3.4: Evaluate Model Performance on the Validation Data\n",
    "        y_pred = model.predict(X_val)\n",
    "        mse = mean_squared_error(y_val, y_pred)\n",
    "        rmse = np.sqrt(mse)\n",
    "        mae = mean_absolute_error(y_val, y_pred)\n",
    "        r2 = r2_score(y_val, y_pred)"
   ]
  },
  {
   "cell_type": "code",
   "execution_count": 67,
   "id": "d481d71d",
   "metadata": {},
   "outputs": [],
   "source": [
    "# Drop any NaN values from the first row\n",
    "portfolio_returns.dropna(inplace=True)"
   ]
  },
  {
   "cell_type": "code",
   "execution_count": 68,
   "id": "68994d57",
   "metadata": {},
   "outputs": [
    {
     "name": "stdout",
     "output_type": "stream",
     "text": [
      "Portfolio Allocation:\n",
      "                 MSFT    GOOGL       AAPL       AMZN      TSLA      DELL  \\\n",
      "Date                                                                       \n",
      "2020-01-02  31.084415  6.84340  11.002191  14.235075  7.171000  3.815664   \n",
      "2020-01-03  30.697351  6.80760  10.895226  14.062275  7.383500  3.690153   \n",
      "2020-01-06  30.776703  6.98905  10.982043  14.271600  7.525667  3.727368   \n",
      "2020-01-07  30.496082  6.97555  10.930394  14.301450  7.817667  3.633965   \n",
      "2020-01-08  30.981845  7.02520  11.106224  14.189775  8.202333  3.648559   \n",
      "\n",
      "            Portfolio  \n",
      "Date                   \n",
      "2020-01-02  74.151744  \n",
      "2020-01-03  73.536105  \n",
      "2020-01-06  74.272431  \n",
      "2020-01-07  74.155107  \n",
      "2020-01-08  75.153938  \n"
     ]
    }
   ],
   "source": [
    "# Print the portfolio allocation and daily returns\n",
    "print(\"Portfolio Allocation:\")\n",
    "print(portfolio_values.head())"
   ]
  },
  {
   "cell_type": "code",
   "execution_count": 69,
   "id": "e60cfb73",
   "metadata": {},
   "outputs": [
    {
     "name": "stdout",
     "output_type": "stream",
     "text": [
      "\n",
      "Portfolio Daily Returns:\n",
      "Date\n",
      "2020-01-03   -0.008302\n",
      "2020-01-06    0.010013\n",
      "2020-01-07   -0.001580\n",
      "2020-01-08    0.013469\n",
      "2020-01-09    0.007412\n",
      "Name: Portfolio, dtype: float64\n"
     ]
    }
   ],
   "source": [
    "print(\"\\nPortfolio Daily Returns:\")\n",
    "print(portfolio_returns.head())"
   ]
  },
  {
   "cell_type": "code",
   "execution_count": 74,
   "id": "e281d55d",
   "metadata": {},
   "outputs": [],
   "source": [
    "scaler = MinMaxScaler()\n",
    "portfolio_values_scaled = pd.DataFrame(scaler.fit_transform(portfolio_values), index=portfolio_values.index, columns=portfolio_values.columns)"
   ]
  },
  {
   "cell_type": "code",
   "execution_count": 76,
   "id": "a3403103",
   "metadata": {},
   "outputs": [
    {
     "name": "stdout",
     "output_type": "stream",
     "text": [
      "Preprocessed Data with Scaled Portfolio Values:\n",
      "                MSFT     GOOGL      AAPL      AMZN      TSLA      DELL  \\\n",
      "Date                                                                     \n",
      "2020-01-02  0.116104  0.161919  0.146799  0.124873  0.011927  0.257280   \n",
      "2020-01-03  0.106752  0.158233  0.141117  0.113875  0.014130  0.238385   \n",
      "2020-01-06  0.108669  0.176914  0.145729  0.127197  0.015604  0.243988   \n",
      "2020-01-07  0.101889  0.175524  0.142985  0.129097  0.018631  0.229926   \n",
      "2020-01-08  0.113626  0.180636  0.152325  0.121990  0.022618  0.232123   \n",
      "\n",
      "            Portfolio  \n",
      "Date                   \n",
      "2020-01-02   0.062669  \n",
      "2020-01-03   0.059217  \n",
      "2020-01-06   0.063346  \n",
      "2020-01-07   0.062688  \n",
      "2020-01-08   0.068288  \n"
     ]
    }
   ],
   "source": [
    "# Print the preprocessed data with scaled portfolio values\n",
    "print(\"Preprocessed Data with Scaled Portfolio Values:\")\n",
    "print(portfolio_values_scaled.head())"
   ]
  },
  {
   "cell_type": "code",
   "execution_count": 78,
   "id": "ef9a06ac",
   "metadata": {},
   "outputs": [],
   "source": [
    "target_variable = 'Portfolio'"
   ]
  },
  {
   "cell_type": "code",
   "execution_count": 79,
   "id": "e550abd5",
   "metadata": {},
   "outputs": [],
   "source": [
    "# Assuming you have split the data into features (X) and target variable (y)\n",
    "X_train, X_test = train_data.drop(target_variable, axis=1), test_data.drop(target_variable, axis=1)\n",
    "y_train, y_test = train_data[target_variable], test_data[target_variable]"
   ]
  },
  {
   "cell_type": "code",
   "execution_count": 84,
   "id": "666e57ad",
   "metadata": {},
   "outputs": [],
   "source": [
    "# Convert target variable to binary class (0 or 1)\n",
    "# For example, let's assume that if the daily return is positive, we label it as 1, otherwise 0\n",
    "y_train_binary = (y_train > 0).astype(int)\n",
    "y_test_binary = (y_test > 0).astype(int)"
   ]
  },
  {
   "cell_type": "code",
   "execution_count": 85,
   "id": "2be38541",
   "metadata": {},
   "outputs": [],
   "source": [
    "# Count the occurrences of each class in the binary target variable\n",
    "class_counts = y_train_binary.value_counts()"
   ]
  },
  {
   "cell_type": "code",
   "execution_count": 86,
   "id": "d0ffc0d4",
   "metadata": {},
   "outputs": [],
   "source": [
    "# Calculate the class weights\n",
    "class_weights = {0: len(y_train_binary) / (2 * class_counts[0]), 1: len(y_train_binary) / (2 * class_counts[1])}"
   ]
  },
  {
   "cell_type": "code",
   "execution_count": 87,
   "id": "d05064c4",
   "metadata": {},
   "outputs": [
    {
     "data": {
      "text/html": [
       "<style>#sk-container-id-1 {color: black;background-color: white;}#sk-container-id-1 pre{padding: 0;}#sk-container-id-1 div.sk-toggleable {background-color: white;}#sk-container-id-1 label.sk-toggleable__label {cursor: pointer;display: block;width: 100%;margin-bottom: 0;padding: 0.3em;box-sizing: border-box;text-align: center;}#sk-container-id-1 label.sk-toggleable__label-arrow:before {content: \"▸\";float: left;margin-right: 0.25em;color: #696969;}#sk-container-id-1 label.sk-toggleable__label-arrow:hover:before {color: black;}#sk-container-id-1 div.sk-estimator:hover label.sk-toggleable__label-arrow:before {color: black;}#sk-container-id-1 div.sk-toggleable__content {max-height: 0;max-width: 0;overflow: hidden;text-align: left;background-color: #f0f8ff;}#sk-container-id-1 div.sk-toggleable__content pre {margin: 0.2em;color: black;border-radius: 0.25em;background-color: #f0f8ff;}#sk-container-id-1 input.sk-toggleable__control:checked~div.sk-toggleable__content {max-height: 200px;max-width: 100%;overflow: auto;}#sk-container-id-1 input.sk-toggleable__control:checked~label.sk-toggleable__label-arrow:before {content: \"▾\";}#sk-container-id-1 div.sk-estimator input.sk-toggleable__control:checked~label.sk-toggleable__label {background-color: #d4ebff;}#sk-container-id-1 div.sk-label input.sk-toggleable__control:checked~label.sk-toggleable__label {background-color: #d4ebff;}#sk-container-id-1 input.sk-hidden--visually {border: 0;clip: rect(1px 1px 1px 1px);clip: rect(1px, 1px, 1px, 1px);height: 1px;margin: -1px;overflow: hidden;padding: 0;position: absolute;width: 1px;}#sk-container-id-1 div.sk-estimator {font-family: monospace;background-color: #f0f8ff;border: 1px dotted black;border-radius: 0.25em;box-sizing: border-box;margin-bottom: 0.5em;}#sk-container-id-1 div.sk-estimator:hover {background-color: #d4ebff;}#sk-container-id-1 div.sk-parallel-item::after {content: \"\";width: 100%;border-bottom: 1px solid gray;flex-grow: 1;}#sk-container-id-1 div.sk-label:hover label.sk-toggleable__label {background-color: #d4ebff;}#sk-container-id-1 div.sk-serial::before {content: \"\";position: absolute;border-left: 1px solid gray;box-sizing: border-box;top: 0;bottom: 0;left: 50%;z-index: 0;}#sk-container-id-1 div.sk-serial {display: flex;flex-direction: column;align-items: center;background-color: white;padding-right: 0.2em;padding-left: 0.2em;position: relative;}#sk-container-id-1 div.sk-item {position: relative;z-index: 1;}#sk-container-id-1 div.sk-parallel {display: flex;align-items: stretch;justify-content: center;background-color: white;position: relative;}#sk-container-id-1 div.sk-item::before, #sk-container-id-1 div.sk-parallel-item::before {content: \"\";position: absolute;border-left: 1px solid gray;box-sizing: border-box;top: 0;bottom: 0;left: 50%;z-index: -1;}#sk-container-id-1 div.sk-parallel-item {display: flex;flex-direction: column;z-index: 1;position: relative;background-color: white;}#sk-container-id-1 div.sk-parallel-item:first-child::after {align-self: flex-end;width: 50%;}#sk-container-id-1 div.sk-parallel-item:last-child::after {align-self: flex-start;width: 50%;}#sk-container-id-1 div.sk-parallel-item:only-child::after {width: 0;}#sk-container-id-1 div.sk-dashed-wrapped {border: 1px dashed gray;margin: 0 0.4em 0.5em 0.4em;box-sizing: border-box;padding-bottom: 0.4em;background-color: white;}#sk-container-id-1 div.sk-label label {font-family: monospace;font-weight: bold;display: inline-block;line-height: 1.2em;}#sk-container-id-1 div.sk-label-container {text-align: center;}#sk-container-id-1 div.sk-container {/* jupyter's `normalize.less` sets `[hidden] { display: none; }` but bootstrap.min.css set `[hidden] { display: none !important; }` so we also need the `!important` here to be able to override the default hidden behavior on the sphinx rendered scikit-learn.org. See: https://github.com/scikit-learn/scikit-learn/issues/21755 */display: inline-block !important;position: relative;}#sk-container-id-1 div.sk-text-repr-fallback {display: none;}</style><div id=\"sk-container-id-1\" class=\"sk-top-container\"><div class=\"sk-text-repr-fallback\"><pre>LogisticRegression(class_weight={0: 302.0, 1: 0.5008291873963516})</pre><b>In a Jupyter environment, please rerun this cell to show the HTML representation or trust the notebook. <br />On GitHub, the HTML representation is unable to render, please try loading this page with nbviewer.org.</b></div><div class=\"sk-container\" hidden><div class=\"sk-item\"><div class=\"sk-estimator sk-toggleable\"><input class=\"sk-toggleable__control sk-hidden--visually\" id=\"sk-estimator-id-1\" type=\"checkbox\" checked><label for=\"sk-estimator-id-1\" class=\"sk-toggleable__label sk-toggleable__label-arrow\">LogisticRegression</label><div class=\"sk-toggleable__content\"><pre>LogisticRegression(class_weight={0: 302.0, 1: 0.5008291873963516})</pre></div></div></div></div></div>"
      ],
      "text/plain": [
       "LogisticRegression(class_weight={0: 302.0, 1: 0.5008291873963516})"
      ]
     },
     "execution_count": 87,
     "metadata": {},
     "output_type": "execute_result"
    }
   ],
   "source": [
    "#Training the model\n",
    "model = LogisticRegression(class_weight=class_weights)\n",
    "model.fit(X_train, y_train_binary)"
   ]
  },
  {
   "cell_type": "code",
   "execution_count": 88,
   "id": "3385f002",
   "metadata": {},
   "outputs": [],
   "source": [
    "# Step 8: Evaluation of Model (Using appropriate evaluation metrics for imbalanced data)\n",
    "# For example, calculating precision, recall, F1-score, or AUC-ROC\n",
    "\n",
    "y_pred = model.predict(X_test)"
   ]
  },
  {
   "cell_type": "code",
   "execution_count": 89,
   "id": "4e99f6ba",
   "metadata": {},
   "outputs": [],
   "source": [
    "# Calculate evaluation metrics\n",
    "from sklearn.metrics import classification_report, roc_auc_score"
   ]
  },
  {
   "cell_type": "code",
   "execution_count": 90,
   "id": "8dafd5cf",
   "metadata": {},
   "outputs": [
    {
     "name": "stdout",
     "output_type": "stream",
     "text": [
      "Classification Report:\n",
      "              precision    recall  f1-score   support\n",
      "\n",
      "           1       1.00      1.00      1.00       151\n",
      "\n",
      "    accuracy                           1.00       151\n",
      "   macro avg       1.00      1.00      1.00       151\n",
      "weighted avg       1.00      1.00      1.00       151\n",
      "\n"
     ]
    }
   ],
   "source": [
    "print(\"Classification Report:\")\n",
    "print(classification_report(y_test_binary, y_pred))"
   ]
  },
  {
   "cell_type": "code",
   "execution_count": 92,
   "id": "3c15d02f",
   "metadata": {},
   "outputs": [
    {
     "name": "stdout",
     "output_type": "stream",
     "text": [
      "Only one class present in y_test_binary. Cannot calculate ROC AUC score.\n"
     ]
    }
   ],
   "source": [
    "# Calculate ROC AUC score only if both classes (0 and 1) are present in y_test_binary\n",
    "if len(np.unique(y_test_binary)) > 1:\n",
    "    auc_roc = roc_auc_score(y_test_binary, y_pred)\n",
    "    print(\"AUC-ROC Score:\", auc_roc)\n",
    "else:\n",
    "    print(\"Only one class present in y_test_binary. Cannot calculate ROC AUC score.\")"
   ]
  },
  {
   "cell_type": "code",
   "execution_count": 50,
   "id": "8f6bc972",
   "metadata": {},
   "outputs": [],
   "source": [
    "# Create the binary target variable: 1 if the Portfolio Return is positive, 0 otherwise\n",
    "data['PortfolioTarget'] = (data['PortfolioReturn'] > 0).astype(int)"
   ]
  },
  {
   "cell_type": "code",
   "execution_count": 51,
   "id": "0d4bf21a",
   "metadata": {},
   "outputs": [],
   "source": [
    "# Count the occurrences of each class in the portfolio target variable\n",
    "target_counts = data['PortfolioTarget'].value_counts()"
   ]
  },
  {
   "cell_type": "code",
   "execution_count": 52,
   "id": "79181e55",
   "metadata": {},
   "outputs": [],
   "source": [
    "# Calculate the class ratios\n",
    "class_ratio = target_counts[0] / target_counts[1]"
   ]
  },
  {
   "cell_type": "code",
   "execution_count": 53,
   "id": "cc18c9dc",
   "metadata": {},
   "outputs": [
    {
     "data": {
      "image/png": "[encoded data removed]",
      "text/plain": [
       "<Figure size 600x400 with 1 Axes>"
      ]
     },
     "metadata": {},
     "output_type": "display_data"
    }
   ],
   "source": [
    "plt.figure(figsize=(6, 4))\n",
    "plt.bar(target_counts.index, target_counts.values)\n",
    "plt.xlabel('Class')\n",
    "plt.ylabel('Count')\n",
    "plt.title('Portfolio Target Variable Distribution')\n",
    "plt.xticks([0, 1], ['Negative Return', 'Positive Return'])\n",
    "plt.show()"
   ]
  },
  {
   "cell_type": "code",
   "execution_count": 54,
   "id": "e530b985",
   "metadata": {},
   "outputs": [
    {
     "name": "stdout",
     "output_type": "stream",
     "text": [
      "The data is balanced.\n"
     ]
    }
   ],
   "source": [
    "# Check for significant imbalance\n",
    "if class_ratio > 10:\n",
    "    print(\"The data is imbalanced.\")\n",
    "else:\n",
    "    print(\"The data is balanced.\")"
   ]
  },
  {
   "cell_type": "code",
   "execution_count": 55,
   "id": "67e1e2a6",
   "metadata": {},
   "outputs": [],
   "source": [
    "# Step 7: Dealing with Imbalanced Data (Using Class Weights)\n",
    "target_variable = 'PortfolioReturn'  # Select the target variable for which we have class imbalance"
   ]
  },
  {
   "cell_type": "code",
   "execution_count": 56,
   "id": "e7cbc379",
   "metadata": {},
   "outputs": [
    {
     "ename": "KeyError",
     "evalue": "\"['PortfolioReturn'] not found in axis\"",
     "output_type": "error",
     "traceback": [
      "\u001b[1;31m---------------------------------------------------------------------------\u001b[0m",
      "\u001b[1;31mKeyError\u001b[0m                                  Traceback (most recent call last)",
      "\u001b[1;32m~\\AppData\\Local\\Temp\\ipykernel_24260\\1941670932.py\u001b[0m in \u001b[0;36m<module>\u001b[1;34m\u001b[0m\n\u001b[0;32m      1\u001b[0m \u001b[1;31m# Assuming you have split the data into features (X) and target variable (y)\u001b[0m\u001b[1;33m\u001b[0m\u001b[1;33m\u001b[0m\u001b[0m\n\u001b[1;32m----> 2\u001b[1;33m \u001b[0mX_train\u001b[0m\u001b[1;33m,\u001b[0m \u001b[0mX_test\u001b[0m \u001b[1;33m=\u001b[0m \u001b[0mtrain_data\u001b[0m\u001b[1;33m.\u001b[0m\u001b[0mdrop\u001b[0m\u001b[1;33m(\u001b[0m\u001b[0mtarget_variable\u001b[0m\u001b[1;33m,\u001b[0m \u001b[0maxis\u001b[0m\u001b[1;33m=\u001b[0m\u001b[1;36m1\u001b[0m\u001b[1;33m)\u001b[0m\u001b[1;33m,\u001b[0m \u001b[0mtest_data\u001b[0m\u001b[1;33m.\u001b[0m\u001b[0mdrop\u001b[0m\u001b[1;33m(\u001b[0m\u001b[0mtarget_variable\u001b[0m\u001b[1;33m,\u001b[0m \u001b[0maxis\u001b[0m\u001b[1;33m=\u001b[0m\u001b[1;36m1\u001b[0m\u001b[1;33m)\u001b[0m\u001b[1;33m\u001b[0m\u001b[1;33m\u001b[0m\u001b[0m\n\u001b[0m\u001b[0;32m      3\u001b[0m \u001b[0my_train\u001b[0m\u001b[1;33m,\u001b[0m \u001b[0my_test\u001b[0m \u001b[1;33m=\u001b[0m \u001b[0mtrain_data\u001b[0m\u001b[1;33m[\u001b[0m\u001b[0mtarget_variable\u001b[0m\u001b[1;33m]\u001b[0m\u001b[1;33m,\u001b[0m \u001b[0mtest_data\u001b[0m\u001b[1;33m[\u001b[0m\u001b[0mtarget_variable\u001b[0m\u001b[1;33m]\u001b[0m\u001b[1;33m\u001b[0m\u001b[1;33m\u001b[0m\u001b[0m\n",
      "\u001b[1;32m~\\anaconda3\\lib\\site-packages\\pandas\\util\\_decorators.py\u001b[0m in \u001b[0;36mwrapper\u001b[1;34m(*args, **kwargs)\u001b[0m\n\u001b[0;32m    309\u001b[0m                     \u001b[0mstacklevel\u001b[0m\u001b[1;33m=\u001b[0m\u001b[0mstacklevel\u001b[0m\u001b[1;33m,\u001b[0m\u001b[1;33m\u001b[0m\u001b[1;33m\u001b[0m\u001b[0m\n\u001b[0;32m    310\u001b[0m                 )\n\u001b[1;32m--> 311\u001b[1;33m             \u001b[1;32mreturn\u001b[0m \u001b[0mfunc\u001b[0m\u001b[1;33m(\u001b[0m\u001b[1;33m*\u001b[0m\u001b[0margs\u001b[0m\u001b[1;33m,\u001b[0m \u001b[1;33m**\u001b[0m\u001b[0mkwargs\u001b[0m\u001b[1;33m)\u001b[0m\u001b[1;33m\u001b[0m\u001b[1;33m\u001b[0m\u001b[0m\n\u001b[0m\u001b[0;32m    312\u001b[0m \u001b[1;33m\u001b[0m\u001b[0m\n\u001b[0;32m    313\u001b[0m         \u001b[1;32mreturn\u001b[0m \u001b[0mwrapper\u001b[0m\u001b[1;33m\u001b[0m\u001b[1;33m\u001b[0m\u001b[0m\n",
      "\u001b[1;32m~\\anaconda3\\lib\\site-packages\\pandas\\core\\frame.py\u001b[0m in \u001b[0;36mdrop\u001b[1;34m(self, labels, axis, index, columns, level, inplace, errors)\u001b[0m\n\u001b[0;32m   4955\u001b[0m                 \u001b[0mweight\u001b[0m  \u001b[1;36m1.0\u001b[0m     \u001b[1;36m0.8\u001b[0m\u001b[1;33m\u001b[0m\u001b[1;33m\u001b[0m\u001b[0m\n\u001b[0;32m   4956\u001b[0m         \"\"\"\n\u001b[1;32m-> 4957\u001b[1;33m         return super().drop(\n\u001b[0m\u001b[0;32m   4958\u001b[0m             \u001b[0mlabels\u001b[0m\u001b[1;33m=\u001b[0m\u001b[0mlabels\u001b[0m\u001b[1;33m,\u001b[0m\u001b[1;33m\u001b[0m\u001b[1;33m\u001b[0m\u001b[0m\n\u001b[0;32m   4959\u001b[0m             \u001b[0maxis\u001b[0m\u001b[1;33m=\u001b[0m\u001b[0maxis\u001b[0m\u001b[1;33m,\u001b[0m\u001b[1;33m\u001b[0m\u001b[1;33m\u001b[0m\u001b[0m\n",
      "\u001b[1;32m~\\anaconda3\\lib\\site-packages\\pandas\\core\\generic.py\u001b[0m in \u001b[0;36mdrop\u001b[1;34m(self, labels, axis, index, columns, level, inplace, errors)\u001b[0m\n\u001b[0;32m   4265\u001b[0m         \u001b[1;32mfor\u001b[0m \u001b[0maxis\u001b[0m\u001b[1;33m,\u001b[0m \u001b[0mlabels\u001b[0m \u001b[1;32min\u001b[0m \u001b[0maxes\u001b[0m\u001b[1;33m.\u001b[0m\u001b[0mitems\u001b[0m\u001b[1;33m(\u001b[0m\u001b[1;33m)\u001b[0m\u001b[1;33m:\u001b[0m\u001b[1;33m\u001b[0m\u001b[1;33m\u001b[0m\u001b[0m\n\u001b[0;32m   4266\u001b[0m             \u001b[1;32mif\u001b[0m \u001b[0mlabels\u001b[0m \u001b[1;32mis\u001b[0m \u001b[1;32mnot\u001b[0m \u001b[1;32mNone\u001b[0m\u001b[1;33m:\u001b[0m\u001b[1;33m\u001b[0m\u001b[1;33m\u001b[0m\u001b[0m\n\u001b[1;32m-> 4267\u001b[1;33m                 \u001b[0mobj\u001b[0m \u001b[1;33m=\u001b[0m \u001b[0mobj\u001b[0m\u001b[1;33m.\u001b[0m\u001b[0m_drop_axis\u001b[0m\u001b[1;33m(\u001b[0m\u001b[0mlabels\u001b[0m\u001b[1;33m,\u001b[0m \u001b[0maxis\u001b[0m\u001b[1;33m,\u001b[0m \u001b[0mlevel\u001b[0m\u001b[1;33m=\u001b[0m\u001b[0mlevel\u001b[0m\u001b[1;33m,\u001b[0m \u001b[0merrors\u001b[0m\u001b[1;33m=\u001b[0m\u001b[0merrors\u001b[0m\u001b[1;33m)\u001b[0m\u001b[1;33m\u001b[0m\u001b[1;33m\u001b[0m\u001b[0m\n\u001b[0m\u001b[0;32m   4268\u001b[0m \u001b[1;33m\u001b[0m\u001b[0m\n\u001b[0;32m   4269\u001b[0m         \u001b[1;32mif\u001b[0m \u001b[0minplace\u001b[0m\u001b[1;33m:\u001b[0m\u001b[1;33m\u001b[0m\u001b[1;33m\u001b[0m\u001b[0m\n",
      "\u001b[1;32m~\\anaconda3\\lib\\site-packages\\pandas\\core\\generic.py\u001b[0m in \u001b[0;36m_drop_axis\u001b[1;34m(self, labels, axis, level, errors, consolidate, only_slice)\u001b[0m\n\u001b[0;32m   4309\u001b[0m                 \u001b[0mnew_axis\u001b[0m \u001b[1;33m=\u001b[0m \u001b[0maxis\u001b[0m\u001b[1;33m.\u001b[0m\u001b[0mdrop\u001b[0m\u001b[1;33m(\u001b[0m\u001b[0mlabels\u001b[0m\u001b[1;33m,\u001b[0m \u001b[0mlevel\u001b[0m\u001b[1;33m=\u001b[0m\u001b[0mlevel\u001b[0m\u001b[1;33m,\u001b[0m \u001b[0merrors\u001b[0m\u001b[1;33m=\u001b[0m\u001b[0merrors\u001b[0m\u001b[1;33m)\u001b[0m\u001b[1;33m\u001b[0m\u001b[1;33m\u001b[0m\u001b[0m\n\u001b[0;32m   4310\u001b[0m             \u001b[1;32melse\u001b[0m\u001b[1;33m:\u001b[0m\u001b[1;33m\u001b[0m\u001b[1;33m\u001b[0m\u001b[0m\n\u001b[1;32m-> 4311\u001b[1;33m                 \u001b[0mnew_axis\u001b[0m \u001b[1;33m=\u001b[0m \u001b[0maxis\u001b[0m\u001b[1;33m.\u001b[0m\u001b[0mdrop\u001b[0m\u001b[1;33m(\u001b[0m\u001b[0mlabels\u001b[0m\u001b[1;33m,\u001b[0m \u001b[0merrors\u001b[0m\u001b[1;33m=\u001b[0m\u001b[0merrors\u001b[0m\u001b[1;33m)\u001b[0m\u001b[1;33m\u001b[0m\u001b[1;33m\u001b[0m\u001b[0m\n\u001b[0m\u001b[0;32m   4312\u001b[0m             \u001b[0mindexer\u001b[0m \u001b[1;33m=\u001b[0m \u001b[0maxis\u001b[0m\u001b[1;33m.\u001b[0m\u001b[0mget_indexer\u001b[0m\u001b[1;33m(\u001b[0m\u001b[0mnew_axis\u001b[0m\u001b[1;33m)\u001b[0m\u001b[1;33m\u001b[0m\u001b[1;33m\u001b[0m\u001b[0m\n\u001b[0;32m   4313\u001b[0m \u001b[1;33m\u001b[0m\u001b[0m\n",
      "\u001b[1;32m~\\anaconda3\\lib\\site-packages\\pandas\\core\\indexes\\base.py\u001b[0m in \u001b[0;36mdrop\u001b[1;34m(self, labels, errors)\u001b[0m\n\u001b[0;32m   6659\u001b[0m         \u001b[1;32mif\u001b[0m \u001b[0mmask\u001b[0m\u001b[1;33m.\u001b[0m\u001b[0many\u001b[0m\u001b[1;33m(\u001b[0m\u001b[1;33m)\u001b[0m\u001b[1;33m:\u001b[0m\u001b[1;33m\u001b[0m\u001b[1;33m\u001b[0m\u001b[0m\n\u001b[0;32m   6660\u001b[0m             \u001b[1;32mif\u001b[0m \u001b[0merrors\u001b[0m \u001b[1;33m!=\u001b[0m \u001b[1;34m\"ignore\"\u001b[0m\u001b[1;33m:\u001b[0m\u001b[1;33m\u001b[0m\u001b[1;33m\u001b[0m\u001b[0m\n\u001b[1;32m-> 6661\u001b[1;33m                 \u001b[1;32mraise\u001b[0m \u001b[0mKeyError\u001b[0m\u001b[1;33m(\u001b[0m\u001b[1;34mf\"{list(labels[mask])} not found in axis\"\u001b[0m\u001b[1;33m)\u001b[0m\u001b[1;33m\u001b[0m\u001b[1;33m\u001b[0m\u001b[0m\n\u001b[0m\u001b[0;32m   6662\u001b[0m             \u001b[0mindexer\u001b[0m \u001b[1;33m=\u001b[0m \u001b[0mindexer\u001b[0m\u001b[1;33m[\u001b[0m\u001b[1;33m~\u001b[0m\u001b[0mmask\u001b[0m\u001b[1;33m]\u001b[0m\u001b[1;33m\u001b[0m\u001b[1;33m\u001b[0m\u001b[0m\n\u001b[0;32m   6663\u001b[0m         \u001b[1;32mreturn\u001b[0m \u001b[0mself\u001b[0m\u001b[1;33m.\u001b[0m\u001b[0mdelete\u001b[0m\u001b[1;33m(\u001b[0m\u001b[0mindexer\u001b[0m\u001b[1;33m)\u001b[0m\u001b[1;33m\u001b[0m\u001b[1;33m\u001b[0m\u001b[0m\n",
      "\u001b[1;31mKeyError\u001b[0m: \"['PortfolioReturn'] not found in axis\""
     ]
    }
   ],
   "source": [
    "# Assuming you have split the data into features (X) and target variable (y)\n",
    "X_train, X_test = train_data.drop(target_variable, axis=1), test_data.drop(target_variable, axis=1)\n",
    "y_train, y_test = train_data[target_variable], test_data[target_variable]"
   ]
  },
  {
   "cell_type": "code",
   "execution_count": null,
   "id": "d7754fb3",
   "metadata": {},
   "outputs": [],
   "source": []
  }
 ],
 "metadata": {
  "kernelspec": {
   "display_name": "Python 3 (ipykernel)",
   "language": "python",
   "name": "python3"
  },
  "language_info": {
   "codemirror_mode": {
    "name": "ipython",
    "version": 3
   },
   "file_extension": ".py",
   "mimetype": "text/x-python",
   "name": "python",
   "nbconvert_exporter": "python",
   "pygments_lexer": "ipython3",
   "version": "3.9.13"
  }
 },
 "nbformat": 4,
 "nbformat_minor": 5
}
